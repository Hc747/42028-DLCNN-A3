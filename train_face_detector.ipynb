{
 "cells": [
  {
   "cell_type": "code",
   "execution_count": null,
   "outputs": [],
   "source": [
    "import os\n",
    "import sys\n",
    "from typing import Optional\n",
    "import tensorflow as tf\n",
    "import numpy as np\n",
    "from IPython import get_ipython\n",
    "from tensorflow import keras"
   ],
   "metadata": {
    "collapsed": false,
    "pycharm": {
     "name": "#%%\n"
    }
   }
  },
  {
   "cell_type": "code",
   "execution_count": null,
   "outputs": [],
   "source": [
    "RANDOM_STATE: int = 694_201_337\n",
    "VALIDATION_SPLIT: float = 0.4\n",
    "GOOGLE_DRIVE_MOUNT_LOCATION: str = '/content/drive/'\n",
    "PROJECT_ROOT_LOCATION: str = f'{GOOGLE_DRIVE_MOUNT_LOCATION}MyDrive/42028/assignment-3'\n",
    "ENVIRONMENT_IS_GOOGLE: bool = 'google.colab' in str(get_ipython())"
   ],
   "metadata": {
    "collapsed": false,
    "pycharm": {
     "name": "#%%\n"
    }
   }
  },
  {
   "cell_type": "code",
   "execution_count": null,
   "outputs": [],
   "source": [
    "if ENVIRONMENT_IS_GOOGLE:\n",
    "    from google.colab import drive\n",
    "    drive.mount(GOOGLE_DRIVE_MOUNT_LOCATION, force_remount=True)\n",
    "    !mkdir /tmp/data\n",
    "    !mkdir /tmp/data/kaggle\n",
    "    !mkdir /tmp/data/kaggle/ashishjangra27\n",
    "    !unzip -q -u -d /tmp/data/kaggle/ashishjangra27/ /content/drive/MyDrive/42028/assignment-3/data/kaggle/ashishjangra27/face-mask-12k-images-dataset.zip\n",
    "    sys.path.append(os.path.abspath(PROJECT_ROOT_LOCATION))\n",
    "    if os.getcwd() != PROJECT_ROOT_LOCATION:\n",
    "      os.chdir(PROJECT_ROOT_LOCATION)\n",
    "\n",
    "    BASE_PATH: str = os.getcwd()\n",
    "    BASE_INPUT_PATH: str = '/tmp'\n",
    "    BASE_OUTPUT_PATH: str = os.path.join(BASE_PATH, 'models')\n",
    "    CLASSIFICATION_INPUT_PATH: str = os.path.join(BASE_INPUT_PATH, 'data')\n",
    "    CLASSIFICATION_OUTPUT_PATH: str = BASE_OUTPUT_PATH\n",
    "else:\n",
    "    BASE_PATH: str = os.getcwd()\n",
    "    BASE_INPUT_PATH: str = os.path.join(BASE_PATH, 'dataset')\n",
    "    BASE_OUTPUT_PATH: str = os.path.join(BASE_PATH, 'models')\n",
    "    CLASSIFICATION_INPUT_PATH: str = os.path.join(BASE_INPUT_PATH, 'classification', 'fruits-360')\n",
    "    CLASSIFICATION_OUTPUT_PATH: str = os.path.join(BASE_OUTPUT_PATH, 'classification', 'checkpoint')"
   ],
   "metadata": {
    "collapsed": false,
    "pycharm": {
     "name": "#%%\n"
    }
   }
  },
  {
   "cell_type": "code",
   "execution_count": null,
   "outputs": [],
   "source": [
    "print(f'Tensorflow API Version: {tf.__version__}')\n",
    "print(f'Keras API Version: {keras.__version__}')\n",
    "print(f'CPUS: {tf.config.list_physical_devices(\"CPU\")}')\n",
    "print(f'GPUS: {tf.config.list_physical_devices(\"GPU\")}')\n",
    "print(f'TPUS: {tf.config.list_physical_devices(\"TPU\")}')\n",
    "print(f'CWD: {os.getcwd()}')\n",
    "print(f'Base: {BASE_PATH}')\n",
    "print(f'Input: {BASE_INPUT_PATH}')\n",
    "print(f'Output: {BASE_OUTPUT_PATH}')\n",
    "print(f'Classification Input: {CLASSIFICATION_INPUT_PATH}')\n",
    "print(f'Classification Output: {CLASSIFICATION_OUTPUT_PATH}')"
   ],
   "metadata": {
    "collapsed": false,
    "pycharm": {
     "name": "#%%\n"
    }
   }
  },
  {
   "cell_type": "code",
   "execution_count": null,
   "outputs": [],
   "source": [
    "from tools.job.train_job import train\n",
    "from constants import *\n",
    "from typing import Optional\n",
    "\n",
    "NETWORK: str = 'vgg16'\n",
    "MODIFY_BASE: bool = True\n",
    "EPOCHS: int = 50\n",
    "RESUME: bool = True\n",
    "DATASET: str = MASK_DETECTOR_ASHISH\n",
    "CHECKPOINT: Optional[str] = None\n",
    "DISCRIMINATOR: Optional[str] = f'Google-Colab-{NETWORK}-{\"modified\" if MODIFY_BASE else \"baseline\"}'\n",
    "\n",
    "model, history, architecture, classes = train(\n",
    "    root_input=CLASSIFICATION_INPUT_PATH,\n",
    "    root_output=CLASSIFICATION_OUTPUT_PATH,\n",
    "    shape=IMAGE_SHAPE,\n",
    "    epochs=EPOCHS,\n",
    "    resume=RESUME,\n",
    "    network=NETWORK,\n",
    "    modify_base=MODIFY_BASE,\n",
    "    dataset=DATASET,\n",
    "    checkpoint=CHECKPOINT,\n",
    "    run_discriminator=DISCRIMINATOR\n",
    ")"
   ],
   "metadata": {
    "collapsed": false,
    "pycharm": {
     "name": "#%%\n"
    }
   }
  },
  {
   "cell_type": "code",
   "execution_count": null,
   "outputs": [],
   "source": [
    "import matplotlib.pyplot as plt\n",
    "acc = history.history['accuracy']\n",
    "val_acc = history.history['val_accuracy']\n",
    "loss = history.history['loss']\n",
    "val_loss = history.history['val_loss']\n",
    "\n",
    "epochs = range(len(acc))\n",
    "\n",
    "plt.plot(epochs, acc, 'bo', label='Training accuracy')\n",
    "plt.plot(epochs, val_acc, 'b', label='Validation accuracy')\n",
    "plt.title('Training and validation accuracy')\n",
    "\n",
    "plt.figure()\n",
    "\n",
    "plt.plot(epochs, loss, 'bo', label='Training Loss')\n",
    "plt.plot(epochs, val_loss, 'b', label='Validation Loss')\n",
    "plt.title('Training and validation loss')\n",
    "plt.legend()\n",
    "\n",
    "plt.show()\n",
    "\n",
    "model.evaluate(x_train, y_train, verbose=1)"
   ],
   "metadata": {
    "collapsed": false,
    "pycharm": {
     "name": "#%%\n"
    }
   }
  },
  {
   "cell_type": "code",
   "execution_count": null,
   "outputs": [],
   "source": [
    "\n",
    "predictions = model.predict_classes(x_train, verbose=1)"
   ],
   "metadata": {
    "collapsed": false,
    "pycharm": {
     "name": "#%%\n"
    }
   }
  },
  {
   "cell_type": "code",
   "execution_count": null,
   "outputs": [],
   "source": [
    "print(f'Predictions: {predictions}')\n",
    "# for prediction in predictions:\n",
    "#     class_index = np.argmax(prediction)"
   ],
   "metadata": {
    "collapsed": false,
    "pycharm": {
     "name": "#%%\n"
    }
   }
  },
  {
   "cell_type": "code",
   "execution_count": null,
   "outputs": [],
   "source": [
    "# print(f'Labels ({CLASSES}): {LABELS}')"
   ],
   "metadata": {
    "collapsed": false,
    "pycharm": {
     "name": "#%%\n"
    }
   }
  },
  {
   "cell_type": "code",
   "execution_count": null,
   "metadata": {
    "collapsed": true
   },
   "outputs": [],
   "source": []
  }
 ],
 "metadata": {
  "kernelspec": {
   "display_name": "Python 3",
   "language": "python",
   "name": "python3"
  },
  "language_info": {
   "codemirror_mode": {
    "name": "ipython",
    "version": 2
   },
   "file_extension": ".py",
   "mimetype": "text/x-python",
   "name": "python",
   "nbconvert_exporter": "python",
   "pygments_lexer": "ipython2",
   "version": "2.7.6"
  }
 },
 "nbformat": 4,
 "nbformat_minor": 0
}